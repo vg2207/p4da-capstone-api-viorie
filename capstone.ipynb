{
 "nbformat": 4,
 "nbformat_minor": 2,
 "metadata": {
  "language_info": {
   "name": "python",
   "codemirror_mode": {
    "name": "ipython",
    "version": 3
   },
   "version": "3.7.6-final"
  },
  "orig_nbformat": 2,
  "file_extension": ".py",
  "mimetype": "text/x-python",
  "name": "python",
  "npconvert_exporter": "python",
  "pygments_lexer": "ipython3",
  "version": 3,
  "kernelspec": {
   "name": "python37664bitapiconda21051e18e07440e2a291596f8dc4e9e0",
   "display_name": "Python 3.7.6 64-bit ('api': conda)"
  }
 },
 "cells": [
  {
   "cell_type": "markdown",
   "execution_count": null,
   "metadata": {},
   "outputs": [],
   "source": [
    "# Background\n",
    "\n",
    "The purpose of this project is to make an API (Application Program Interface) using python so that this application can read and send the response based on the user's request.\n",
    "\n",
    "\n",
    "Data that we used :\n",
    "* chinook.db : this data is database file\n",
    "\n",
    "\n",
    "Environments that we used :\n",
    "* python\n",
    "* pandas\n",
    "* flask\n",
    "* gunicorn\n",
    "\n",
    "\n",
    "The library that we used :\n",
    "* Flask from flask\n",
    "* request from flask\n",
    "* pandas \n",
    "* sqlite3\n",
    "\n",
    "\n",
    "\n"
   ]
  },
  {
   "cell_type": "markdown",
   "execution_count": null,
   "metadata": {},
   "outputs": [],
   "source": []
  },
  {
   "cell_type": "code",
   "execution_count": 58,
   "metadata": {},
   "outputs": [],
   "source": [
    "import pandas as pd\n",
    "import sqlite3\n",
    "import requests"
   ]
  },
  {
   "cell_type": "code",
   "execution_count": null,
   "metadata": {},
   "outputs": [],
   "source": []
  },
  {
   "cell_type": "code",
   "execution_count": 57,
   "metadata": {},
   "outputs": [
    {
     "data": {
      "text/plain": "[RangeIndex(start=0, stop=2240, step=1),\n Index(['GenreName', 'GenreId', 'TrackName', 'AlbumId', 'MediaTypeId',\n        'Composer', 'Milliseconds', 'Bytes', 'InvoiceLineId', 'InvoiceId',\n        'TrackId', 'UnitPrice', 'Quantity', 'InvoiceDate', 'BillingAddress',\n        'BillingCity', 'BillingState', 'BillingCountry', 'BillingPostalCode',\n        'Total', 'CustomerId', 'FirstName', 'LastName', 'Company', 'Address',\n        'City', 'State', 'Country', 'PostalCode', 'Phone', 'Fax', 'Email',\n        'SupportRepId'],\n       dtype='object')]"
     },
     "execution_count": 57,
     "metadata": {},
     "output_type": "execute_result"
    }
   ],
   "source": [
    "conn = sqlite3.connect(\"data_input/chinook.db\")\n",
    "query = \"\"\"\n",
    "SELECT genres.Name as GenreName, genres.GenreId, tracks.Name as TrackName, tracks.AlbumId, tracks.MediaTypeId, tracks.Composer, tracks.Milliseconds, tracks.Bytes, invoice_items.*, invoices.InvoiceDate, invoices.BillingAddress, invoices.BillingCity, invoices.BillingState, invoices.BillingCountry, invoices.BillingPostalCode, invoices.Total, customers.*\n",
    "FROM genres\n",
    "JOIN tracks ON genres.GenreId == tracks.GenreId\n",
    "JOIN invoice_items ON tracks.TrackId == invoice_items.TrackId\n",
    "JOIN invoices ON invoice_items.InvoiceId == invoices.InvoiceId\n",
    "JOIN customers ON invoices.CustomerId == customers.CustomerId\n",
    "\"\"\"\n",
    "\n",
    "x = pd.read_sql_query(query, conn)\n",
    "x.axes\n"
   ]
  },
  {
   "cell_type": "code",
   "execution_count": 36,
   "metadata": {},
   "outputs": [],
   "source": [
    "y = (pd.crosstab(index=x[\"Country\"],\n",
    "                    columns=x[\"GenreName\"], \n",
    "                    values=x[\"Quantity\"], \n",
    "                    aggfunc=\"sum\", \n",
    "                    normalize=\"all\", \n",
    "                    margins=True)\n",
    "                    *100).\\\n",
    "        round(2).\\\n",
    "        sort_values(by=\"All\", ascending=False, axis=1).\\\n",
    "        sort_values(by=\"All\", ascending=False, axis=0).\\\n",
    "        astype(\"str\")+\"%\"\n",
    "\n"
   ]
  },
  {
   "cell_type": "code",
   "execution_count": 9,
   "metadata": {},
   "outputs": [
    {
     "data": {
      "text/html": "<div>\n<style scoped>\n    .dataframe tbody tr th:only-of-type {\n        vertical-align: middle;\n    }\n\n    .dataframe tbody tr th {\n        vertical-align: top;\n    }\n\n    .dataframe thead th {\n        text-align: right;\n    }\n</style>\n<table border=\"1\" class=\"dataframe\">\n  <thead>\n    <tr style=\"text-align: right;\">\n      <th>GenreName</th>\n      <th>All</th>\n      <th>Rock</th>\n      <th>Latin</th>\n      <th>Metal</th>\n      <th>Alternative &amp; Punk</th>\n      <th>Jazz</th>\n      <th>Blues</th>\n      <th>TV Shows</th>\n      <th>Classical</th>\n      <th>R&amp;B/Soul</th>\n      <th>...</th>\n      <th>Hip Hop/Rap</th>\n      <th>Bossa Nova</th>\n      <th>Alternative</th>\n      <th>World</th>\n      <th>Heavy Metal</th>\n      <th>Electronica/Dance</th>\n      <th>Easy Listening</th>\n      <th>Comedy</th>\n      <th>Rock And Roll</th>\n      <th>Science Fiction</th>\n    </tr>\n    <tr>\n      <th>Country</th>\n      <th></th>\n      <th></th>\n      <th></th>\n      <th></th>\n      <th></th>\n      <th></th>\n      <th></th>\n      <th></th>\n      <th></th>\n      <th></th>\n      <th></th>\n      <th></th>\n      <th></th>\n      <th></th>\n      <th></th>\n      <th></th>\n      <th></th>\n      <th></th>\n      <th></th>\n      <th></th>\n      <th></th>\n    </tr>\n  </thead>\n  <tbody>\n    <tr>\n      <td>All</td>\n      <td>100.0%</td>\n      <td>37.28%</td>\n      <td>17.23%</td>\n      <td>11.79%</td>\n      <td>10.89%</td>\n      <td>3.57%</td>\n      <td>2.72%</td>\n      <td>2.1%</td>\n      <td>1.83%</td>\n      <td>1.83%</td>\n      <td>...</td>\n      <td>0.76%</td>\n      <td>0.67%</td>\n      <td>0.62%</td>\n      <td>0.58%</td>\n      <td>0.54%</td>\n      <td>0.54%</td>\n      <td>0.45%</td>\n      <td>0.4%</td>\n      <td>0.27%</td>\n      <td>0.27%</td>\n    </tr>\n    <tr>\n      <td>USA</td>\n      <td>22.05%</td>\n      <td>7.01%</td>\n      <td>4.06%</td>\n      <td>2.86%</td>\n      <td>2.23%</td>\n      <td>0.98%</td>\n      <td>0.67%</td>\n      <td>0.62%</td>\n      <td>0.36%</td>\n      <td>0.54%</td>\n      <td>...</td>\n      <td>0.18%</td>\n      <td>0.31%</td>\n      <td>0.22%</td>\n      <td>0.0%</td>\n      <td>0.18%</td>\n      <td>0.0%</td>\n      <td>0.13%</td>\n      <td>0.36%</td>\n      <td>0.13%</td>\n      <td>0.04%</td>\n    </tr>\n    <tr>\n      <td>Canada</td>\n      <td>13.57%</td>\n      <td>4.78%</td>\n      <td>2.68%</td>\n      <td>1.79%</td>\n      <td>1.61%</td>\n      <td>0.58%</td>\n      <td>0.18%</td>\n      <td>0.04%</td>\n      <td>0.22%</td>\n      <td>0.22%</td>\n      <td>...</td>\n      <td>0.22%</td>\n      <td>0.31%</td>\n      <td>0.0%</td>\n      <td>0.27%</td>\n      <td>0.0%</td>\n      <td>0.18%</td>\n      <td>0.0%</td>\n      <td>0.0%</td>\n      <td>0.09%</td>\n      <td>0.0%</td>\n    </tr>\n    <tr>\n      <td>Brazil</td>\n      <td>8.48%</td>\n      <td>3.62%</td>\n      <td>2.37%</td>\n      <td>0.67%</td>\n      <td>0.31%</td>\n      <td>0.0%</td>\n      <td>0.27%</td>\n      <td>0.0%</td>\n      <td>0.27%</td>\n      <td>0.13%</td>\n      <td>...</td>\n      <td>0.09%</td>\n      <td>0.0%</td>\n      <td>0.0%</td>\n      <td>0.09%</td>\n      <td>0.0%</td>\n      <td>0.0%</td>\n      <td>0.0%</td>\n      <td>0.0%</td>\n      <td>0.0%</td>\n      <td>0.0%</td>\n    </tr>\n    <tr>\n      <td>France</td>\n      <td>8.48%</td>\n      <td>2.9%</td>\n      <td>1.16%</td>\n      <td>0.89%</td>\n      <td>1.38%</td>\n      <td>0.49%</td>\n      <td>0.09%</td>\n      <td>0.04%</td>\n      <td>0.45%</td>\n      <td>0.0%</td>\n      <td>...</td>\n      <td>0.09%</td>\n      <td>0.04%</td>\n      <td>0.18%</td>\n      <td>0.0%</td>\n      <td>0.0%</td>\n      <td>0.09%</td>\n      <td>0.0%</td>\n      <td>0.0%</td>\n      <td>0.04%</td>\n      <td>0.0%</td>\n    </tr>\n    <tr>\n      <td>Germany</td>\n      <td>6.79%</td>\n      <td>2.77%</td>\n      <td>0.8%</td>\n      <td>1.12%</td>\n      <td>0.58%</td>\n      <td>0.09%</td>\n      <td>0.62%</td>\n      <td>0.13%</td>\n      <td>0.0%</td>\n      <td>0.0%</td>\n      <td>...</td>\n      <td>0.0%</td>\n      <td>0.0%</td>\n      <td>0.04%</td>\n      <td>0.0%</td>\n      <td>0.13%</td>\n      <td>0.0%</td>\n      <td>0.09%</td>\n      <td>0.0%</td>\n      <td>0.0%</td>\n      <td>0.09%</td>\n    </tr>\n    <tr>\n      <td>United Kingdom</td>\n      <td>5.09%</td>\n      <td>1.65%</td>\n      <td>1.38%</td>\n      <td>0.89%</td>\n      <td>0.4%</td>\n      <td>0.18%</td>\n      <td>0.0%</td>\n      <td>0.0%</td>\n      <td>0.0%</td>\n      <td>0.09%</td>\n      <td>...</td>\n      <td>0.13%</td>\n      <td>0.0%</td>\n      <td>0.0%</td>\n      <td>0.04%</td>\n      <td>0.0%</td>\n      <td>0.0%</td>\n      <td>0.0%</td>\n      <td>0.0%</td>\n      <td>0.0%</td>\n      <td>0.0%</td>\n    </tr>\n    <tr>\n      <td>Czech Republic</td>\n      <td>3.39%</td>\n      <td>1.12%</td>\n      <td>0.4%</td>\n      <td>0.27%</td>\n      <td>0.4%</td>\n      <td>0.13%</td>\n      <td>0.04%</td>\n      <td>0.36%</td>\n      <td>0.0%</td>\n      <td>0.09%</td>\n      <td>...</td>\n      <td>0.0%</td>\n      <td>0.0%</td>\n      <td>0.0%</td>\n      <td>0.0%</td>\n      <td>0.0%</td>\n      <td>0.09%</td>\n      <td>0.0%</td>\n      <td>0.0%</td>\n      <td>0.0%</td>\n      <td>0.04%</td>\n    </tr>\n    <tr>\n      <td>Portugal</td>\n      <td>3.39%</td>\n      <td>1.38%</td>\n      <td>0.58%</td>\n      <td>0.49%</td>\n      <td>0.22%</td>\n      <td>0.09%</td>\n      <td>0.04%</td>\n      <td>0.04%</td>\n      <td>0.0%</td>\n      <td>0.09%</td>\n      <td>...</td>\n      <td>0.0%</td>\n      <td>0.0%</td>\n      <td>0.0%</td>\n      <td>0.09%</td>\n      <td>0.09%</td>\n      <td>0.04%</td>\n      <td>0.0%</td>\n      <td>0.0%</td>\n      <td>0.0%</td>\n      <td>0.0%</td>\n    </tr>\n    <tr>\n      <td>India</td>\n      <td>3.3%</td>\n      <td>1.12%</td>\n      <td>0.4%</td>\n      <td>0.36%</td>\n      <td>0.49%</td>\n      <td>0.45%</td>\n      <td>0.13%</td>\n      <td>0.04%</td>\n      <td>0.09%</td>\n      <td>0.18%</td>\n      <td>...</td>\n      <td>0.0%</td>\n      <td>0.0%</td>\n      <td>0.0%</td>\n      <td>0.0%</td>\n      <td>0.0%</td>\n      <td>0.0%</td>\n      <td>0.0%</td>\n      <td>0.0%</td>\n      <td>0.0%</td>\n      <td>0.0%</td>\n    </tr>\n    <tr>\n      <td>Netherlands</td>\n      <td>1.7%</td>\n      <td>0.8%</td>\n      <td>0.13%</td>\n      <td>0.09%</td>\n      <td>0.22%</td>\n      <td>0.0%</td>\n      <td>0.18%</td>\n      <td>0.0%</td>\n      <td>0.0%</td>\n      <td>0.0%</td>\n      <td>...</td>\n      <td>0.0%</td>\n      <td>0.0%</td>\n      <td>0.0%</td>\n      <td>0.0%</td>\n      <td>0.0%</td>\n      <td>0.0%</td>\n      <td>0.0%</td>\n      <td>0.0%</td>\n      <td>0.0%</td>\n      <td>0.0%</td>\n    </tr>\n    <tr>\n      <td>Sweden</td>\n      <td>1.7%</td>\n      <td>0.45%</td>\n      <td>0.54%</td>\n      <td>0.31%</td>\n      <td>0.27%</td>\n      <td>0.04%</td>\n      <td>0.0%</td>\n      <td>0.04%</td>\n      <td>0.0%</td>\n      <td>0.0%</td>\n      <td>...</td>\n      <td>0.0%</td>\n      <td>0.0%</td>\n      <td>0.0%</td>\n      <td>0.04%</td>\n      <td>0.0%</td>\n      <td>0.0%</td>\n      <td>0.0%</td>\n      <td>0.0%</td>\n      <td>0.0%</td>\n      <td>0.0%</td>\n    </tr>\n    <tr>\n      <td>Spain</td>\n      <td>1.7%</td>\n      <td>0.98%</td>\n      <td>0.18%</td>\n      <td>0.13%</td>\n      <td>0.18%</td>\n      <td>0.09%</td>\n      <td>0.0%</td>\n      <td>0.0%</td>\n      <td>0.0%</td>\n      <td>0.0%</td>\n      <td>...</td>\n      <td>0.04%</td>\n      <td>0.0%</td>\n      <td>0.0%</td>\n      <td>0.0%</td>\n      <td>0.0%</td>\n      <td>0.0%</td>\n      <td>0.0%</td>\n      <td>0.0%</td>\n      <td>0.0%</td>\n      <td>0.0%</td>\n    </tr>\n    <tr>\n      <td>Poland</td>\n      <td>1.7%</td>\n      <td>0.98%</td>\n      <td>0.31%</td>\n      <td>0.0%</td>\n      <td>0.31%</td>\n      <td>0.04%</td>\n      <td>0.04%</td>\n      <td>0.0%</td>\n      <td>0.0%</td>\n      <td>0.0%</td>\n      <td>...</td>\n      <td>0.0%</td>\n      <td>0.0%</td>\n      <td>0.0%</td>\n      <td>0.0%</td>\n      <td>0.0%</td>\n      <td>0.0%</td>\n      <td>0.0%</td>\n      <td>0.0%</td>\n      <td>0.0%</td>\n      <td>0.0%</td>\n    </tr>\n    <tr>\n      <td>Norway</td>\n      <td>1.7%</td>\n      <td>0.76%</td>\n      <td>0.22%</td>\n      <td>0.0%</td>\n      <td>0.09%</td>\n      <td>0.0%</td>\n      <td>0.0%</td>\n      <td>0.0%</td>\n      <td>0.22%</td>\n      <td>0.0%</td>\n      <td>...</td>\n      <td>0.0%</td>\n      <td>0.0%</td>\n      <td>0.18%</td>\n      <td>0.04%</td>\n      <td>0.0%</td>\n      <td>0.09%</td>\n      <td>0.0%</td>\n      <td>0.0%</td>\n      <td>0.0%</td>\n      <td>0.0%</td>\n    </tr>\n    <tr>\n      <td>Argentina</td>\n      <td>1.7%</td>\n      <td>0.4%</td>\n      <td>0.36%</td>\n      <td>0.31%</td>\n      <td>0.4%</td>\n      <td>0.09%</td>\n      <td>0.0%</td>\n      <td>0.0%</td>\n      <td>0.0%</td>\n      <td>0.0%</td>\n      <td>...</td>\n      <td>0.0%</td>\n      <td>0.0%</td>\n      <td>0.0%</td>\n      <td>0.0%</td>\n      <td>0.0%</td>\n      <td>0.0%</td>\n      <td>0.09%</td>\n      <td>0.0%</td>\n      <td>0.0%</td>\n      <td>0.0%</td>\n    </tr>\n    <tr>\n      <td>Italy</td>\n      <td>1.7%</td>\n      <td>0.8%</td>\n      <td>0.09%</td>\n      <td>0.04%</td>\n      <td>0.49%</td>\n      <td>0.0%</td>\n      <td>0.18%</td>\n      <td>0.0%</td>\n      <td>0.09%</td>\n      <td>0.0%</td>\n      <td>...</td>\n      <td>0.0%</td>\n      <td>0.0%</td>\n      <td>0.0%</td>\n      <td>0.0%</td>\n      <td>0.0%</td>\n      <td>0.0%</td>\n      <td>0.0%</td>\n      <td>0.0%</td>\n      <td>0.0%</td>\n      <td>0.0%</td>\n    </tr>\n    <tr>\n      <td>Ireland</td>\n      <td>1.7%</td>\n      <td>0.54%</td>\n      <td>0.31%</td>\n      <td>0.13%</td>\n      <td>0.18%</td>\n      <td>0.13%</td>\n      <td>0.04%</td>\n      <td>0.31%</td>\n      <td>0.0%</td>\n      <td>0.0%</td>\n      <td>...</td>\n      <td>0.0%</td>\n      <td>0.0%</td>\n      <td>0.0%</td>\n      <td>0.0%</td>\n      <td>0.0%</td>\n      <td>0.0%</td>\n      <td>0.0%</td>\n      <td>0.0%</td>\n      <td>0.0%</td>\n      <td>0.0%</td>\n    </tr>\n    <tr>\n      <td>Australia</td>\n      <td>1.7%</td>\n      <td>0.98%</td>\n      <td>0.09%</td>\n      <td>0.36%</td>\n      <td>0.0%</td>\n      <td>0.0%</td>\n      <td>0.04%</td>\n      <td>0.0%</td>\n      <td>0.0%</td>\n      <td>0.0%</td>\n      <td>...</td>\n      <td>0.0%</td>\n      <td>0.0%</td>\n      <td>0.0%</td>\n      <td>0.0%</td>\n      <td>0.13%</td>\n      <td>0.0%</td>\n      <td>0.0%</td>\n      <td>0.0%</td>\n      <td>0.0%</td>\n      <td>0.0%</td>\n    </tr>\n    <tr>\n      <td>Finland</td>\n      <td>1.7%</td>\n      <td>0.8%</td>\n      <td>0.4%</td>\n      <td>0.09%</td>\n      <td>0.09%</td>\n      <td>0.09%</td>\n      <td>0.0%</td>\n      <td>0.0%</td>\n      <td>0.0%</td>\n      <td>0.0%</td>\n      <td>...</td>\n      <td>0.0%</td>\n      <td>0.0%</td>\n      <td>0.0%</td>\n      <td>0.0%</td>\n      <td>0.0%</td>\n      <td>0.0%</td>\n      <td>0.0%</td>\n      <td>0.0%</td>\n      <td>0.0%</td>\n      <td>0.0%</td>\n    </tr>\n    <tr>\n      <td>Denmark</td>\n      <td>1.7%</td>\n      <td>0.94%</td>\n      <td>0.18%</td>\n      <td>0.27%</td>\n      <td>0.18%</td>\n      <td>0.0%</td>\n      <td>0.0%</td>\n      <td>0.0%</td>\n      <td>0.0%</td>\n      <td>0.0%</td>\n      <td>...</td>\n      <td>0.0%</td>\n      <td>0.0%</td>\n      <td>0.0%</td>\n      <td>0.0%</td>\n      <td>0.0%</td>\n      <td>0.0%</td>\n      <td>0.0%</td>\n      <td>0.0%</td>\n      <td>0.0%</td>\n      <td>0.0%</td>\n    </tr>\n    <tr>\n      <td>Chile</td>\n      <td>1.7%</td>\n      <td>0.4%</td>\n      <td>0.36%</td>\n      <td>0.13%</td>\n      <td>0.09%</td>\n      <td>0.0%</td>\n      <td>0.09%</td>\n      <td>0.09%</td>\n      <td>0.04%</td>\n      <td>0.0%</td>\n      <td>...</td>\n      <td>0.0%</td>\n      <td>0.0%</td>\n      <td>0.0%</td>\n      <td>0.0%</td>\n      <td>0.0%</td>\n      <td>0.0%</td>\n      <td>0.13%</td>\n      <td>0.0%</td>\n      <td>0.0%</td>\n      <td>0.09%</td>\n    </tr>\n    <tr>\n      <td>Belgium</td>\n      <td>1.7%</td>\n      <td>0.94%</td>\n      <td>0.0%</td>\n      <td>0.04%</td>\n      <td>0.62%</td>\n      <td>0.0%</td>\n      <td>0.0%</td>\n      <td>0.0%</td>\n      <td>0.0%</td>\n      <td>0.09%</td>\n      <td>...</td>\n      <td>0.0%</td>\n      <td>0.0%</td>\n      <td>0.0%</td>\n      <td>0.0%</td>\n      <td>0.0%</td>\n      <td>0.0%</td>\n      <td>0.0%</td>\n      <td>0.0%</td>\n      <td>0.0%</td>\n      <td>0.0%</td>\n    </tr>\n    <tr>\n      <td>Austria</td>\n      <td>1.7%</td>\n      <td>0.67%</td>\n      <td>0.09%</td>\n      <td>0.31%</td>\n      <td>0.0%</td>\n      <td>0.09%</td>\n      <td>0.0%</td>\n      <td>0.18%</td>\n      <td>0.09%</td>\n      <td>0.18%</td>\n      <td>...</td>\n      <td>0.0%</td>\n      <td>0.0%</td>\n      <td>0.0%</td>\n      <td>0.0%</td>\n      <td>0.0%</td>\n      <td>0.0%</td>\n      <td>0.0%</td>\n      <td>0.0%</td>\n      <td>0.0%</td>\n      <td>0.0%</td>\n    </tr>\n    <tr>\n      <td>Hungary</td>\n      <td>1.7%</td>\n      <td>0.49%</td>\n      <td>0.13%</td>\n      <td>0.22%</td>\n      <td>0.13%</td>\n      <td>0.0%</td>\n      <td>0.09%</td>\n      <td>0.18%</td>\n      <td>0.0%</td>\n      <td>0.22%</td>\n      <td>...</td>\n      <td>0.0%</td>\n      <td>0.0%</td>\n      <td>0.0%</td>\n      <td>0.0%</td>\n      <td>0.0%</td>\n      <td>0.04%</td>\n      <td>0.0%</td>\n      <td>0.04%</td>\n      <td>0.0%</td>\n      <td>0.0%</td>\n    </tr>\n  </tbody>\n</table>\n<p>25 rows × 25 columns</p>\n</div>",
      "text/plain": "GenreName          All    Rock   Latin   Metal Alternative & Punk   Jazz  \\\nCountry                                                                    \nAll             100.0%  37.28%  17.23%  11.79%             10.89%  3.57%   \nUSA             22.05%   7.01%   4.06%   2.86%              2.23%  0.98%   \nCanada          13.57%   4.78%   2.68%   1.79%              1.61%  0.58%   \nBrazil           8.48%   3.62%   2.37%   0.67%              0.31%   0.0%   \nFrance           8.48%    2.9%   1.16%   0.89%              1.38%  0.49%   \nGermany          6.79%   2.77%    0.8%   1.12%              0.58%  0.09%   \nUnited Kingdom   5.09%   1.65%   1.38%   0.89%               0.4%  0.18%   \nCzech Republic   3.39%   1.12%    0.4%   0.27%               0.4%  0.13%   \nPortugal         3.39%   1.38%   0.58%   0.49%              0.22%  0.09%   \nIndia             3.3%   1.12%    0.4%   0.36%              0.49%  0.45%   \nNetherlands       1.7%    0.8%   0.13%   0.09%              0.22%   0.0%   \nSweden            1.7%   0.45%   0.54%   0.31%              0.27%  0.04%   \nSpain             1.7%   0.98%   0.18%   0.13%              0.18%  0.09%   \nPoland            1.7%   0.98%   0.31%    0.0%              0.31%  0.04%   \nNorway            1.7%   0.76%   0.22%    0.0%              0.09%   0.0%   \nArgentina         1.7%    0.4%   0.36%   0.31%               0.4%  0.09%   \nItaly             1.7%    0.8%   0.09%   0.04%              0.49%   0.0%   \nIreland           1.7%   0.54%   0.31%   0.13%              0.18%  0.13%   \nAustralia         1.7%   0.98%   0.09%   0.36%               0.0%   0.0%   \nFinland           1.7%    0.8%    0.4%   0.09%              0.09%  0.09%   \nDenmark           1.7%   0.94%   0.18%   0.27%              0.18%   0.0%   \nChile             1.7%    0.4%   0.36%   0.13%              0.09%   0.0%   \nBelgium           1.7%   0.94%    0.0%   0.04%              0.62%   0.0%   \nAustria           1.7%   0.67%   0.09%   0.31%               0.0%  0.09%   \nHungary           1.7%   0.49%   0.13%   0.22%              0.13%   0.0%   \n\nGenreName       Blues TV Shows Classical R&B/Soul  ... Hip Hop/Rap Bossa Nova  \\\nCountry                                            ...                          \nAll             2.72%     2.1%     1.83%    1.83%  ...       0.76%      0.67%   \nUSA             0.67%    0.62%     0.36%    0.54%  ...       0.18%      0.31%   \nCanada          0.18%    0.04%     0.22%    0.22%  ...       0.22%      0.31%   \nBrazil          0.27%     0.0%     0.27%    0.13%  ...       0.09%       0.0%   \nFrance          0.09%    0.04%     0.45%     0.0%  ...       0.09%      0.04%   \nGermany         0.62%    0.13%      0.0%     0.0%  ...        0.0%       0.0%   \nUnited Kingdom   0.0%     0.0%      0.0%    0.09%  ...       0.13%       0.0%   \nCzech Republic  0.04%    0.36%      0.0%    0.09%  ...        0.0%       0.0%   \nPortugal        0.04%    0.04%      0.0%    0.09%  ...        0.0%       0.0%   \nIndia           0.13%    0.04%     0.09%    0.18%  ...        0.0%       0.0%   \nNetherlands     0.18%     0.0%      0.0%     0.0%  ...        0.0%       0.0%   \nSweden           0.0%    0.04%      0.0%     0.0%  ...        0.0%       0.0%   \nSpain            0.0%     0.0%      0.0%     0.0%  ...       0.04%       0.0%   \nPoland          0.04%     0.0%      0.0%     0.0%  ...        0.0%       0.0%   \nNorway           0.0%     0.0%     0.22%     0.0%  ...        0.0%       0.0%   \nArgentina        0.0%     0.0%      0.0%     0.0%  ...        0.0%       0.0%   \nItaly           0.18%     0.0%     0.09%     0.0%  ...        0.0%       0.0%   \nIreland         0.04%    0.31%      0.0%     0.0%  ...        0.0%       0.0%   \nAustralia       0.04%     0.0%      0.0%     0.0%  ...        0.0%       0.0%   \nFinland          0.0%     0.0%      0.0%     0.0%  ...        0.0%       0.0%   \nDenmark          0.0%     0.0%      0.0%     0.0%  ...        0.0%       0.0%   \nChile           0.09%    0.09%     0.04%     0.0%  ...        0.0%       0.0%   \nBelgium          0.0%     0.0%      0.0%    0.09%  ...        0.0%       0.0%   \nAustria          0.0%    0.18%     0.09%    0.18%  ...        0.0%       0.0%   \nHungary         0.09%    0.18%      0.0%    0.22%  ...        0.0%       0.0%   \n\nGenreName      Alternative  World Heavy Metal Electronica/Dance  \\\nCountry                                                           \nAll                  0.62%  0.58%       0.54%             0.54%   \nUSA                  0.22%   0.0%       0.18%              0.0%   \nCanada                0.0%  0.27%        0.0%             0.18%   \nBrazil                0.0%  0.09%        0.0%              0.0%   \nFrance               0.18%   0.0%        0.0%             0.09%   \nGermany              0.04%   0.0%       0.13%              0.0%   \nUnited Kingdom        0.0%  0.04%        0.0%              0.0%   \nCzech Republic        0.0%   0.0%        0.0%             0.09%   \nPortugal              0.0%  0.09%       0.09%             0.04%   \nIndia                 0.0%   0.0%        0.0%              0.0%   \nNetherlands           0.0%   0.0%        0.0%              0.0%   \nSweden                0.0%  0.04%        0.0%              0.0%   \nSpain                 0.0%   0.0%        0.0%              0.0%   \nPoland                0.0%   0.0%        0.0%              0.0%   \nNorway               0.18%  0.04%        0.0%             0.09%   \nArgentina             0.0%   0.0%        0.0%              0.0%   \nItaly                 0.0%   0.0%        0.0%              0.0%   \nIreland               0.0%   0.0%        0.0%              0.0%   \nAustralia             0.0%   0.0%       0.13%              0.0%   \nFinland               0.0%   0.0%        0.0%              0.0%   \nDenmark               0.0%   0.0%        0.0%              0.0%   \nChile                 0.0%   0.0%        0.0%              0.0%   \nBelgium               0.0%   0.0%        0.0%              0.0%   \nAustria               0.0%   0.0%        0.0%              0.0%   \nHungary               0.0%   0.0%        0.0%             0.04%   \n\nGenreName      Easy Listening Comedy Rock And Roll Science Fiction  \nCountry                                                             \nAll                     0.45%   0.4%         0.27%           0.27%  \nUSA                     0.13%  0.36%         0.13%           0.04%  \nCanada                   0.0%   0.0%         0.09%            0.0%  \nBrazil                   0.0%   0.0%          0.0%            0.0%  \nFrance                   0.0%   0.0%         0.04%            0.0%  \nGermany                 0.09%   0.0%          0.0%           0.09%  \nUnited Kingdom           0.0%   0.0%          0.0%            0.0%  \nCzech Republic           0.0%   0.0%          0.0%           0.04%  \nPortugal                 0.0%   0.0%          0.0%            0.0%  \nIndia                    0.0%   0.0%          0.0%            0.0%  \nNetherlands              0.0%   0.0%          0.0%            0.0%  \nSweden                   0.0%   0.0%          0.0%            0.0%  \nSpain                    0.0%   0.0%          0.0%            0.0%  \nPoland                   0.0%   0.0%          0.0%            0.0%  \nNorway                   0.0%   0.0%          0.0%            0.0%  \nArgentina               0.09%   0.0%          0.0%            0.0%  \nItaly                    0.0%   0.0%          0.0%            0.0%  \nIreland                  0.0%   0.0%          0.0%            0.0%  \nAustralia                0.0%   0.0%          0.0%            0.0%  \nFinland                  0.0%   0.0%          0.0%            0.0%  \nDenmark                  0.0%   0.0%          0.0%            0.0%  \nChile                   0.13%   0.0%          0.0%           0.09%  \nBelgium                  0.0%   0.0%          0.0%            0.0%  \nAustria                  0.0%   0.0%          0.0%            0.0%  \nHungary                  0.0%  0.04%          0.0%            0.0%  \n\n[25 rows x 25 columns]"
     },
     "execution_count": 9,
     "metadata": {},
     "output_type": "execute_result"
    }
   ],
   "source": [
    "(pd.crosstab(index=x[\"Country\"], columns=x[\"GenreName\"], values=x[\"Quantity\"], aggfunc=\"sum\", normalize=\"all\", margins=True)*100).round(2).sort_values(by=\"All\", ascending=False, axis=1).sort_values(by=\"All\", ascending=False, axis=0).astype(\"str\")+\"%\""
   ]
  },
  {
   "cell_type": "code",
   "execution_count": 99,
   "metadata": {},
   "outputs": [
    {
     "data": {
      "text/html": "<div>\n<style scoped>\n    .dataframe tbody tr th:only-of-type {\n        vertical-align: middle;\n    }\n\n    .dataframe tbody tr th {\n        vertical-align: top;\n    }\n\n    .dataframe thead th {\n        text-align: right;\n    }\n</style>\n<table border=\"1\" class=\"dataframe\">\n  <thead>\n    <tr style=\"text-align: right;\">\n      <th></th>\n      <th>Pop</th>\n    </tr>\n  </thead>\n  <tbody>\n    <tr>\n      <td>All</td>\n      <td>1.25%</td>\n    </tr>\n    <tr>\n      <td>Argentina</td>\n      <td>0.0%</td>\n    </tr>\n    <tr>\n      <td>Australia</td>\n      <td>0.0%</td>\n    </tr>\n    <tr>\n      <td>Austria</td>\n      <td>0.04%</td>\n    </tr>\n    <tr>\n      <td>Belgium</td>\n      <td>0.0%</td>\n    </tr>\n    <tr>\n      <td>Brazil</td>\n      <td>0.13%</td>\n    </tr>\n    <tr>\n      <td>Canada</td>\n      <td>0.0%</td>\n    </tr>\n    <tr>\n      <td>Chile</td>\n      <td>0.0%</td>\n    </tr>\n    <tr>\n      <td>Czech Republic</td>\n      <td>0.18%</td>\n    </tr>\n    <tr>\n      <td>Denmark</td>\n      <td>0.13%</td>\n    </tr>\n    <tr>\n      <td>Finland</td>\n      <td>0.0%</td>\n    </tr>\n    <tr>\n      <td>France</td>\n      <td>0.09%</td>\n    </tr>\n    <tr>\n      <td>Germany</td>\n      <td>0.04%</td>\n    </tr>\n    <tr>\n      <td>Hungary</td>\n      <td>0.0%</td>\n    </tr>\n    <tr>\n      <td>India</td>\n      <td>0.0%</td>\n    </tr>\n    <tr>\n      <td>Ireland</td>\n      <td>0.0%</td>\n    </tr>\n    <tr>\n      <td>Italy</td>\n      <td>0.0%</td>\n    </tr>\n    <tr>\n      <td>Netherlands</td>\n      <td>0.13%</td>\n    </tr>\n    <tr>\n      <td>Norway</td>\n      <td>0.0%</td>\n    </tr>\n    <tr>\n      <td>Poland</td>\n      <td>0.0%</td>\n    </tr>\n    <tr>\n      <td>Portugal</td>\n      <td>0.18%</td>\n    </tr>\n    <tr>\n      <td>Spain</td>\n      <td>0.0%</td>\n    </tr>\n    <tr>\n      <td>Sweden</td>\n      <td>0.0%</td>\n    </tr>\n    <tr>\n      <td>USA</td>\n      <td>0.22%</td>\n    </tr>\n    <tr>\n      <td>United Kingdom</td>\n      <td>0.09%</td>\n    </tr>\n  </tbody>\n</table>\n</div>",
      "text/plain": "                  Pop\nAll             1.25%\nArgentina        0.0%\nAustralia        0.0%\nAustria         0.04%\nBelgium          0.0%\nBrazil          0.13%\nCanada           0.0%\nChile            0.0%\nCzech Republic  0.18%\nDenmark         0.13%\nFinland          0.0%\nFrance          0.09%\nGermany         0.04%\nHungary          0.0%\nIndia            0.0%\nIreland          0.0%\nItaly            0.0%\nNetherlands     0.13%\nNorway           0.0%\nPoland           0.0%\nPortugal        0.18%\nSpain            0.0%\nSweden           0.0%\nUSA             0.22%\nUnited Kingdom  0.09%"
     },
     "execution_count": 99,
     "metadata": {},
     "output_type": "execute_result"
    }
   ],
   "source": [
    "url1 = 'http://localhost:5000/capstone/get/chinook.db/quantity/prop/Pop'\n",
    "r = requests.get(url1)\n",
    "r_pd = pd.DataFrame(r.json())\n",
    "r_pd"
   ]
  },
  {
   "cell_type": "code",
   "execution_count": 72,
   "metadata": {},
   "outputs": [],
   "source": [
    "conn = sqlite3.connect(\"data_input/chinook.db\")\n",
    "query = \"\"\"\n",
    "SELECT genres.Name as GenreName, genres.GenreId, tracks.Name as TrackName, tracks.AlbumId, tracks.MediaTypeId, tracks.Composer, tracks.Milliseconds, tracks.Bytes, invoice_items.*, invoices.InvoiceDate, invoices.BillingAddress, invoices.BillingCity, invoices.BillingState, invoices.BillingCountry, invoices.BillingPostalCode, invoices.Total, customers.*\n",
    "FROM genres\n",
    "JOIN tracks ON genres.GenreId == tracks.GenreId\n",
    "JOIN invoice_items ON tracks.TrackId == invoice_items.TrackId\n",
    "JOIN invoices ON invoice_items.InvoiceId == invoices.InvoiceId\n",
    "JOIN customers ON invoices.CustomerId == customers.CustomerId\n",
    "\"\"\"\n",
    "\n",
    "x = pd.read_sql_query(query, conn, parse_dates='InvoiceDate')\n",
    "x = x.astype(\"str\")"
   ]
  },
  {
   "cell_type": "code",
   "execution_count": 73,
   "metadata": {},
   "outputs": [
    {
     "data": {
      "text/plain": "GenreName            object\nGenreId              object\nTrackName            object\nAlbumId              object\nMediaTypeId          object\nComposer             object\nMilliseconds         object\nBytes                object\nInvoiceLineId        object\nInvoiceId            object\nTrackId              object\nUnitPrice            object\nQuantity             object\nInvoiceDate          object\nBillingAddress       object\nBillingCity          object\nBillingState         object\nBillingCountry       object\nBillingPostalCode    object\nTotal                object\nCustomerId           object\nFirstName            object\nLastName             object\nCompany              object\nAddress              object\nCity                 object\nState                object\nCountry              object\nPostalCode           object\nPhone                object\nFax                  object\nEmail                object\nSupportRepId         object\ndtype: object"
     },
     "execution_count": 73,
     "metadata": {},
     "output_type": "execute_result"
    }
   ],
   "source": [
    "x.dtypes"
   ]
  },
  {
   "cell_type": "code",
   "execution_count": 94,
   "metadata": {},
   "outputs": [
    {
     "data": {
      "text/html": "<div>\n<style scoped>\n    .dataframe tbody tr th:only-of-type {\n        vertical-align: middle;\n    }\n\n    .dataframe tbody tr th {\n        vertical-align: top;\n    }\n\n    .dataframe thead th {\n        text-align: right;\n    }\n</style>\n<table border=\"1\" class=\"dataframe\">\n  <thead>\n    <tr style=\"text-align: right;\">\n      <th>GenreName</th>\n      <th>Blues</th>\n    </tr>\n    <tr>\n      <th>Country</th>\n      <th></th>\n    </tr>\n  </thead>\n  <tbody>\n    <tr>\n      <td>All</td>\n      <td>2.72%</td>\n    </tr>\n    <tr>\n      <td>USA</td>\n      <td>0.67%</td>\n    </tr>\n    <tr>\n      <td>Canada</td>\n      <td>0.18%</td>\n    </tr>\n    <tr>\n      <td>Brazil</td>\n      <td>0.27%</td>\n    </tr>\n    <tr>\n      <td>France</td>\n      <td>0.09%</td>\n    </tr>\n    <tr>\n      <td>Germany</td>\n      <td>0.62%</td>\n    </tr>\n    <tr>\n      <td>United Kingdom</td>\n      <td>0.0%</td>\n    </tr>\n    <tr>\n      <td>Czech Republic</td>\n      <td>0.04%</td>\n    </tr>\n    <tr>\n      <td>Portugal</td>\n      <td>0.04%</td>\n    </tr>\n    <tr>\n      <td>India</td>\n      <td>0.13%</td>\n    </tr>\n    <tr>\n      <td>Netherlands</td>\n      <td>0.18%</td>\n    </tr>\n    <tr>\n      <td>Sweden</td>\n      <td>0.0%</td>\n    </tr>\n    <tr>\n      <td>Spain</td>\n      <td>0.0%</td>\n    </tr>\n    <tr>\n      <td>Poland</td>\n      <td>0.04%</td>\n    </tr>\n    <tr>\n      <td>Norway</td>\n      <td>0.0%</td>\n    </tr>\n    <tr>\n      <td>Argentina</td>\n      <td>0.0%</td>\n    </tr>\n    <tr>\n      <td>Italy</td>\n      <td>0.18%</td>\n    </tr>\n    <tr>\n      <td>Ireland</td>\n      <td>0.04%</td>\n    </tr>\n    <tr>\n      <td>Australia</td>\n      <td>0.04%</td>\n    </tr>\n    <tr>\n      <td>Finland</td>\n      <td>0.0%</td>\n    </tr>\n    <tr>\n      <td>Denmark</td>\n      <td>0.0%</td>\n    </tr>\n    <tr>\n      <td>Chile</td>\n      <td>0.09%</td>\n    </tr>\n    <tr>\n      <td>Belgium</td>\n      <td>0.0%</td>\n    </tr>\n    <tr>\n      <td>Austria</td>\n      <td>0.0%</td>\n    </tr>\n    <tr>\n      <td>Hungary</td>\n      <td>0.09%</td>\n    </tr>\n  </tbody>\n</table>\n</div>",
      "text/plain": "GenreName       Blues\nCountry              \nAll             2.72%\nUSA             0.67%\nCanada          0.18%\nBrazil          0.27%\nFrance          0.09%\nGermany         0.62%\nUnited Kingdom   0.0%\nCzech Republic  0.04%\nPortugal        0.04%\nIndia           0.13%\nNetherlands     0.18%\nSweden           0.0%\nSpain            0.0%\nPoland          0.04%\nNorway           0.0%\nArgentina        0.0%\nItaly           0.18%\nIreland         0.04%\nAustralia       0.04%\nFinland          0.0%\nDenmark          0.0%\nChile           0.09%\nBelgium          0.0%\nAustria          0.0%\nHungary         0.09%"
     },
     "execution_count": 94,
     "metadata": {},
     "output_type": "execute_result"
    }
   ],
   "source": [
    "conn = sqlite3.connect(\"data_input/chinook.db\")\n",
    "query = \"\"\"\n",
    "SELECT genres.Name as GenreName, invoice_items.Quantity, customers.Country\n",
    "FROM genres\n",
    "JOIN tracks ON genres.GenreId == tracks.GenreId\n",
    "JOIN invoice_items ON tracks.TrackId == invoice_items.TrackId\n",
    "JOIN invoices ON invoice_items.InvoiceId == invoices.InvoiceId\n",
    "JOIN customers ON invoices.CustomerId == customers.CustomerId\n",
    "\"\"\"\n",
    "\n",
    "x = pd.read_sql_query(query, conn)\n",
    "y = (pd.crosstab(index=x[\"Country\"],\n",
    "                    columns=x[\"GenreName\"], \n",
    "                    values=x[\"Quantity\"], \n",
    "                    aggfunc=\"sum\", \n",
    "                    normalize=\"all\", \n",
    "                    margins=True)\n",
    "                    *100).\\\n",
    "        round(2).\\\n",
    "        sort_values(by=\"All\", ascending=False, axis=1).\\\n",
    "        sort_values(by=\"All\", ascending=False, axis=0).\\\n",
    "        astype(\"str\")+\"%\"\n",
    "z = y[[\"Blues\"]]\n",
    "z"
   ]
  },
  {
   "cell_type": "markdown",
   "execution_count": null,
   "metadata": {},
   "outputs": [],
   "source": [
    "a"
   ]
  }
 ]
}